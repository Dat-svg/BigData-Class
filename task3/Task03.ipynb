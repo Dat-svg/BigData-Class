{
  "nbformat": 4,
  "nbformat_minor": 0,
  "metadata": {
    "colab": {
      "provenance": [],
      "collapsed_sections": [
        "bDnDofglbbv1"
      ]
    },
    "kernelspec": {
      "name": "python3",
      "display_name": "Python 3"
    },
    "language_info": {
      "name": "python"
    }
  },
  "cells": [
    {
      "cell_type": "markdown",
      "source": [
        "# **Thiết lập môi trường Pyspark**"
      ],
      "metadata": {
        "id": "vdAszSSBBoPX"
      }
    },
    {
      "cell_type": "code",
      "execution_count": 5,
      "metadata": {
        "colab": {
          "base_uri": "https://localhost:8080/"
        },
        "id": "Jlkt9UmwBGrE",
        "outputId": "59478fdd-1199-4783-bcc8-505f0f833074"
      },
      "outputs": [
        {
          "output_type": "stream",
          "name": "stdout",
          "text": [
            "Drive already mounted at /content/drive; to attempt to forcibly remount, call drive.mount(\"/content/drive\", force_remount=True).\n"
          ]
        }
      ],
      "source": [
        "# Kết nối Google Drive\n",
        "from google.colab import drive\n",
        "drive.mount('/content/drive')"
      ]
    },
    {
      "cell_type": "code",
      "source": [
        "# !sudo apt-get update\n",
        "!apt-get install openjdk-8-jdk-headless -qq > /dev/null\n",
        "# !wget -q https://archive.apache.org/dist/spark/spark-3.5.4/spark-3.5.4-bin-hadoop3.tgz\n",
        "!cp /content/drive/MyDrive/final_mmds/pyspark/spark-3.5.4-bin-hadoop3.tgz .\n",
        "!cp /content/drive/MyDrive/final_mmds/source/task3/df_10d.csv .\n",
        "!tar xf spark-3.5.4-bin-hadoop3.tgz\n",
        "!pip install -q findspark"
      ],
      "metadata": {
        "id": "uO3rIWsvBvhJ",
        "collapsed": true
      },
      "execution_count": 6,
      "outputs": []
    },
    {
      "cell_type": "code",
      "source": [
        "import os\n",
        "os.environ[\"JAVA_HOME\"] = \"/usr/lib/jvm/java-8-openjdk-amd64\"\n",
        "os.environ[\"SPARK_HOME\"] = \"/content/spark-3.5.4-bin-hadoop3\""
      ],
      "metadata": {
        "id": "ibzVyYh-Bw0P"
      },
      "execution_count": 7,
      "outputs": []
    },
    {
      "cell_type": "code",
      "source": [
        "import findspark\n",
        "import pyspark as spark\n",
        "findspark.init()\n",
        "print(spark.__version__)"
      ],
      "metadata": {
        "colab": {
          "base_uri": "https://localhost:8080/"
        },
        "id": "-FjZ1Wr7Byo1",
        "outputId": "ec989fee-2b0c-4aad-f4b6-82c6508f8504"
      },
      "execution_count": 8,
      "outputs": [
        {
          "output_type": "stream",
          "name": "stdout",
          "text": [
            "3.5.1\n"
          ]
        }
      ]
    },
    {
      "cell_type": "markdown",
      "source": [
        "# **Khởi tạo SparkSession và các thư viện cần thiết**"
      ],
      "metadata": {
        "id": "l0g_QruwHgyg"
      }
    },
    {
      "cell_type": "code",
      "source": [
        "# --- PySpark Core và SQL ---\n",
        "from pyspark.sql import SparkSession, Row\n",
        "from pyspark.sql.functions import (\n",
        "    col, to_date, year, month, dayofmonth, dayofweek,\n",
        "    lag, desc, monotonically_increasing_id, udf,\n",
        "    sum as spark_sum, avg as spark_avg, split,\n",
        "    min as spark_min, max as spark_max, count as spark_count\n",
        ")\n",
        "from pyspark.sql.window import Window\n",
        "from pyspark.sql.types import (\n",
        "    DoubleType, DateType, StructType,\n",
        "    ArrayType, FloatType, StringType,\n",
        "    StructField)\n",
        "from pyspark.ml.feature import VectorAssembler\n",
        "from pyspark.ml.regression import LinearRegression\n",
        "from pyspark.ml.evaluation import RegressionEvaluator\n",
        "from pyspark.mllib.linalg import Vectors\n",
        "from pyspark.mllib.linalg.distributed import RowMatrix\n",
        "\n",
        "# --- Python Libraries ---\n",
        "import pandas as pd\n",
        "import shutil\n",
        "import os\n",
        "import glob\n",
        "import matplotlib.pyplot as plt\n",
        "import seaborn as sns\n",
        "import numpy as np\n",
        "from tabulate import tabulate\n",
        "\n",
        "# Thiết lập một số tùy chỉnh cho đồ thị\n",
        "sns.set_style(\"whitegrid\")\n",
        "plt.rcParams['figure.figsize'] = (15, 7)\n",
        "plt.rcParams['axes.titlesize'] = 16\n",
        "plt.rcParams['axes.labelsize'] = 14\n",
        "plt.rcParams['xtick.labelsize'] = 12\n",
        "plt.rcParams['ytick.labelsize'] = 12\n",
        "plt.rcParams['legend.fontsize'] = 12"
      ],
      "metadata": {
        "id": "uaSamrhFHfFu"
      },
      "execution_count": 9,
      "outputs": []
    },
    {
      "cell_type": "markdown",
      "source": [
        "# **Working_path**"
      ],
      "metadata": {
        "id": "RyKnU5nvJS_e"
      }
    },
    {
      "cell_type": "code",
      "source": [
        "working_path = \".\""
      ],
      "metadata": {
        "id": "dU7iDeqDJXFD"
      },
      "execution_count": 10,
      "outputs": []
    },
    {
      "cell_type": "code",
      "source": [
        "# Khởi tạo SparkSession\n",
        "spark = SparkSession.builder.appName(\"Task3DimensionalityReduction\").getOrCreate()\n",
        "print(\"SparkSession đã được khởi tạo.\")"
      ],
      "metadata": {
        "colab": {
          "base_uri": "https://localhost:8080/"
        },
        "id": "F7jlkT6-buJn",
        "outputId": "19a78fbb-ac33-43a9-d40e-61f5d2b4f27c"
      },
      "execution_count": 11,
      "outputs": [
        {
          "output_type": "stream",
          "name": "stdout",
          "text": [
            "SparkSession đã được khởi tạo.\n"
          ]
        }
      ]
    },
    {
      "cell_type": "markdown",
      "source": [
        "**Tải dữ liệu từ Task2**"
      ],
      "metadata": {
        "id": "BRcRgk19amo-"
      }
    },
    {
      "cell_type": "code",
      "source": [
        "# Đường dẫn đến file CSV (dữ liệu 10 chiều)\n",
        "file_path = f\"{working_path}/df_10d.csv\"\n",
        "\n",
        "# Định nghĩa schema cho DataFrame 10 chiều\n",
        "schema_10d = StructType([\n",
        "    StructField(\"Date\", StringType(), True),\n",
        "    StructField(\"features_vector\", StringType(), True),\n",
        "    StructField(\"label\", FloatType(), True)\n",
        "])\n",
        "\n",
        "# Đọc file CSV vào DataFrame 10 chiều\n",
        "df_10d = spark.read.csv(file_path, header=True, schema=schema_10d)\n",
        "\n",
        "# Chuyển đổi cột 'features_vector' từ chuỗi sang vector\n",
        "def string_to_float_array(s):\n",
        "    s = s.strip(\"[]\")\n",
        "    return [float(x) for x in s.split(\",\")]\n",
        "\n",
        "string_to_float_array_udf = udf(string_to_float_array, ArrayType(FloatType()))\n",
        "df_10d = df_10d.withColumn(\"features_array\", string_to_float_array_udf(col(\"features_vector\"))).drop(\"features_vector\")\n",
        "df_10d.show(5, truncate=False)"
      ],
      "metadata": {
        "colab": {
          "base_uri": "https://localhost:8080/"
        },
        "id": "n8_qdyhulA02",
        "outputId": "58c87721-38db-4e2b-c35a-72fe8c0f47e0"
      },
      "execution_count": 15,
      "outputs": [
        {
          "output_type": "stream",
          "name": "stdout",
          "text": [
            "+----------+-----+----------------------------------------------------------------------+\n",
            "|Date      |label|features_array                                                        |\n",
            "+----------+-----+----------------------------------------------------------------------+\n",
            "|2009-08-11|21.19|[21.19, 21.19, 21.19, 21.19, 21.19, 21.19, 21.19, 21.19, 21.19, 21.19]|\n",
            "|2009-08-12|21.19|[21.19, 21.19, 21.19, 21.19, 21.19, 21.19, 21.19, 21.19, 21.19, 21.19]|\n",
            "|2009-08-13|21.19|[21.19, 21.19, 21.19, 21.19, 21.19, 21.19, 21.19, 21.19, 21.19, 21.19]|\n",
            "|2009-08-14|21.19|[21.19, 21.19, 21.19, 21.19, 21.19, 21.19, 21.19, 21.19, 21.19, 21.19]|\n",
            "|2009-08-15|21.19|[21.19, 21.19, 21.19, 21.19, 21.19, 21.19, 21.19, 21.19, 21.19, 21.19]|\n",
            "+----------+-----+----------------------------------------------------------------------+\n",
            "only showing top 5 rows\n",
            "\n"
          ]
        }
      ]
    },
    {
      "cell_type": "markdown",
      "source": [
        "# **Task 3: CUR – Dimensionality Reduction**"
      ],
      "metadata": {
        "id": "1wkDmElWF098"
      }
    },
    {
      "cell_type": "markdown",
      "source": [
        "**Triển khai thuật toán CUR giảm df_10d xuống df_5d**"
      ],
      "metadata": {
        "id": "q5LeDbtKlBYF"
      }
    },
    {
      "cell_type": "code",
      "source": [
        "class CURReducer:\n",
        "    def __init__(self, num_columns_to_select=5, num_rows_to_select=5, seed=1024):\n",
        "        self.k = num_columns_to_select\n",
        "        self.r = num_rows_to_select\n",
        "        self.seed = seed\n",
        "        self.selected_col_indices = None\n",
        "        self.selected_row_indices = None\n",
        "\n",
        "    def _build_row_matrix(self, df_vector):\n",
        "        # Chuyển sang RDD[Vectors.dense]\n",
        "        return RowMatrix(df_vector.rdd.map(lambda row: Vectors.dense(row[\"features_array\"])))\n",
        "\n",
        "    def fit_transform(self, df_vector):\n",
        "        matrix = self._build_row_matrix(df_vector)\n",
        "        A = np.array(matrix.rows.collect())  # A: m x n\n",
        "        m, n = A.shape\n",
        "\n",
        "        def sample_columns(A, c, seed):\n",
        "            col_norms_sq = np.sum(A**2, axis=0) # Tính Frobenius norm\n",
        "            prob_cols = col_norms_sq / np.sum(col_norms_sq)\n",
        "            np.random.seed(seed)\n",
        "            selected_col_indices = np.random.choice(n, c, replace=False, p=prob_cols)\n",
        "            C = np.zeros((m, c))\n",
        "            for i, j in enumerate(selected_col_indices): # Chọn ngẫu nhiên dựa trên prob\n",
        "                C[:, i] = A[:, j] / np.sqrt(c * prob_cols[j]) # Chuẩn hóa\n",
        "            return C, selected_col_indices\n",
        "\n",
        "        def sample_rows(A, r, seed):\n",
        "            row_norms_sq = np.sum(A**2, axis=1)\n",
        "            prob_rows = row_norms_sq / np.sum(row_norms_sq) # Tính Frobenius norm\n",
        "            np.random.seed(seed)\n",
        "            selected_row_indices = np.random.choice(m, r, replace=False, p=prob_rows)\n",
        "            R = np.zeros((r, n))\n",
        "            for i, idx in enumerate(selected_row_indices): # Chọn ngẫu nhiên dựa trên prob\n",
        "                R[i, :] = A[idx, :] / np.sqrt(r * prob_rows[idx]) # Chuẩn hóa\n",
        "            return R, selected_row_indices\n",
        "\n",
        "        C, self.selected_col_indices = sample_columns(A, self.k, self.seed)\n",
        "        R, self.selected_row_indices = sample_rows(A, self.r, self.seed + 1)\n",
        "\n",
        "        # Ma trận W: giao nhau giữa hàng và cột đã chọn\n",
        "        W = A[np.ix_(self.selected_row_indices, self.selected_col_indices)]  # W: r x k\n",
        "\n",
        "        # Tạo RDD từ ma trận W\n",
        "        W_rdd = spark.sparkContext.parallelize(W.tolist())\n",
        "        W_mat = RowMatrix(W_rdd.map(lambda row: Vectors.dense(row)))\n",
        "\n",
        "        # Tính SVD để lấy X, Y, Z\n",
        "        svd = W_mat.computeSVD(self.k, computeU=True)\n",
        "        X = np.array(svd.U.rows.collect())  # r x k\n",
        "        Z = svd.s.toArray()                 # Vector kích thước k\n",
        "        Y = np.array(svd.V.toArray())       # k x k\n",
        "\n",
        "        Z_inv_squared = np.diag([(1/s)**2 if s > 1e-10 else 0 for s in Z])\n",
        "        U = Y @ Z_inv_squared @ X.T\n",
        "\n",
        "        return C, U, R\n"
      ],
      "metadata": {
        "collapsed": true,
        "id": "bAWbgjrpa1nw"
      },
      "execution_count": 18,
      "outputs": []
    },
    {
      "cell_type": "code",
      "source": [
        "# Khởi tạo và áp dụng CUR\n",
        "cur = CURReducer(num_columns_to_select=5, num_rows_to_select=5)\n",
        "c, u ,r = cur.fit_transform(df_10d.select(\"features_array\"))\n",
        "\n",
        "# Chuyển kết quả về DataFrame\n",
        "df_5d = spark.createDataFrame([\n",
        "    Row(\n",
        "        Date=row[\"Date\"],\n",
        "        label=round(float(row[\"label\"]), 2),\n",
        "        features_cur=list(map(float, c[i]))\n",
        "    )\n",
        "    for i, row in enumerate(df_10d.collect())\n",
        "])\n",
        "\n",
        "df_5d.show(5, truncate=False)"
      ],
      "metadata": {
        "colab": {
          "base_uri": "https://localhost:8080/"
        },
        "id": "n8JL8xODlKI0",
        "outputId": "a718d907-0af6-4f0f-d344-6f047b04dc91"
      },
      "execution_count": 20,
      "outputs": [
        {
          "output_type": "stream",
          "name": "stdout",
          "text": [
            "+----------+-----+--------------------------------------------------------------------------------------------------+\n",
            "|Date      |label|features_cur                                                                                      |\n",
            "+----------+-----+--------------------------------------------------------------------------------------------------+\n",
            "|2009-08-11|21.19|[29.97894721617453, 30.00251096677933, 29.971104961895673, 29.986795629701223, 29.931985797919356]|\n",
            "|2009-08-12|21.19|[29.97894721617453, 30.00251096677933, 29.971104961895673, 29.986795629701223, 29.931985797919356]|\n",
            "|2009-08-13|21.19|[29.97894721617453, 30.00251096677933, 29.971104961895673, 29.986795629701223, 29.931985797919356]|\n",
            "|2009-08-14|21.19|[29.97894721617453, 30.00251096677933, 29.971104961895673, 29.986795629701223, 29.931985797919356]|\n",
            "|2009-08-15|21.19|[29.97894721617453, 30.00251096677933, 29.971104961895673, 29.986795629701223, 29.931985797919356]|\n",
            "+----------+-----+--------------------------------------------------------------------------------------------------+\n",
            "only showing top 5 rows\n",
            "\n"
          ]
        }
      ]
    },
    {
      "cell_type": "markdown",
      "source": [
        "**Lưu file df_5d.csv**"
      ],
      "metadata": {
        "id": "JRUn34xrwFVD"
      }
    },
    {
      "cell_type": "code",
      "source": [
        "# UDF chuyển array -> string\n",
        "array_to_string_udf = udf(lambda arr: ','.join([str(round(x, 4)) for x in arr]), StringType())\n",
        "working_path = \".\"\n",
        "# Thêm cột chuỗi để lưu CSV\n",
        "df_5d_export = df_5d.withColumn(\"features_cur_str\", array_to_string_udf(col(\"features_cur\"))) \\\n",
        "                    .drop(\"features_cur\")\n",
        "\n",
        "# Các đường dẫn lưu file\n",
        "temp_output_dir_5d = f\"{working_path}/dataframe_task3_temp_5d\"\n",
        "final_output_dir_5d = f\"{working_path}/\"\n",
        "final_filename_5d = \"df_5d.csv\"\n",
        "\n",
        "# Xoá thư mục tạm nếu có\n",
        "shutil.rmtree(temp_output_dir_5d, ignore_errors=True)\n",
        "\n",
        "# Lưu file tạm\n",
        "df_5d_export.coalesce(1).write.mode(\"overwrite\").option(\"header\", True).csv(temp_output_dir_5d)\n",
        "\n",
        "# Tìm file part-*.csv\n",
        "part_file_5d = glob.glob(os.path.join(temp_output_dir_5d, \"part-*.csv\"))[0]\n",
        "\n",
        "# Tạo thư mục đích\n",
        "os.makedirs(final_output_dir_5d, exist_ok=True)\n",
        "\n",
        "# Đổi tên file và di chuyển\n",
        "shutil.move(part_file_5d, os.path.join(final_output_dir_5d, final_filename_5d))\n",
        "\n",
        "# Xoá thư mục tạm\n",
        "shutil.rmtree(temp_output_dir_5d)\n",
        "\n",
        "print(f\"Đã lưu file CSV thành: {os.path.join(final_output_dir_5d, final_filename_5d)}\")"
      ],
      "metadata": {
        "id": "se5D0wzdwIfh",
        "colab": {
          "base_uri": "https://localhost:8080/"
        },
        "outputId": "52d1e655-2854-4056-efdd-ed404ef8f8e8"
      },
      "execution_count": 21,
      "outputs": [
        {
          "output_type": "stream",
          "name": "stdout",
          "text": [
            "Đã lưu file CSV thành: ./df_5d.csv\n"
          ]
        }
      ]
    },
    {
      "cell_type": "markdown",
      "source": [
        "# **Linear regression model**"
      ],
      "metadata": {
        "id": "bDnDofglbbv1"
      }
    },
    {
      "cell_type": "markdown",
      "source": [
        "**Xây dựng lớp GoldPricePredictor sử dụng mô hình Linear Regression để dự đoán**"
      ],
      "metadata": {
        "id": "ZRK5-z84QEzD"
      }
    },
    {
      "cell_type": "code",
      "source": [
        "class GoldPricePredictor:\n",
        "    def __init__(self, features_col=\"features_vector\", label_col=\"label\", prediction_col=\"prediction\",\n",
        "                 max_iter=100, reg_param=0.001, elastic_net_param=0.001,\n",
        "                 fit_intercept=True, standardization=True, solver=\"auto\"):\n",
        "        \"\"\"\n",
        "        Khởi tạo mô hình dự đoán giá vàng.\n",
        "\n",
        "        Args:\n",
        "            features_col (str): Tên cột chứa vector đặc trưng.\n",
        "            label_col (str): Tên cột chứa nhãn.\n",
        "            prediction_col (str): Tên cột chứa giá trị dự đoán.\n",
        "            max_iter (int): Số vòng lặp tối đa.\n",
        "            reg_param (float): Tham số điều chuẩn.\n",
        "            elastic_net_param (float): Tham số trộn Elastic Net.\n",
        "            fit_intercept (bool): Có sử dụng hệ số chặn hay không.\n",
        "            standardization (bool): Có chuẩn hóa features hay không.\n",
        "            solver (str): Thuật toán giải.\n",
        "        \"\"\"\n",
        "        self.features_col = features_col\n",
        "        self.label_col = label_col\n",
        "        self.prediction_col = prediction_col\n",
        "\n",
        "        self.lr_estimator = LinearRegression(\n",
        "            featuresCol=self.features_col,\n",
        "            labelCol=self.label_col,\n",
        "            predictionCol=self.prediction_col,\n",
        "            maxIter=max_iter,\n",
        "            regParam=reg_param,\n",
        "            elasticNetParam=elastic_net_param,\n",
        "            fitIntercept=fit_intercept,\n",
        "            standardization=standardization,\n",
        "            solver=solver\n",
        "        )\n",
        "\n",
        "        self.model = None\n",
        "        self.training_summary = None\n",
        "        self.objective_history = []\n",
        "        self.metrics = {}\n",
        "        self.feature_names_list = []\n",
        "        self.target_price_display_name = \"prediction\"\n",
        "\n",
        "    def set_feature_names(self, feature_names):\n",
        "        self.feature_names_list = feature_names\n",
        "        return self\n",
        "\n",
        "    def set_target_price_display_name(self, name):\n",
        "        self.target_price_display_name = name\n",
        "        return self\n",
        "\n",
        "    def train(self, training_data):\n",
        "        \"\"\"\n",
        "        Huấn luyện mô hình Linear Regression.\n",
        "        Args:\n",
        "            training_data (DataFrame): Tập dữ liệu training của PySpark\n",
        "                                     (phải chứa cột features_col và label_col).\n",
        "        \"\"\"\n",
        "        if not training_data:\n",
        "            print(\"Lỗi: training_data không được cung cấp.\")\n",
        "            self.model = None\n",
        "            return None\n",
        "\n",
        "        print(f\"Bắt đầu huấn luyện mô hình Linear Regression ({self.target_price_display_name}) với các tham số:\")\n",
        "        print(f\"  MaxIter: {self.lr_estimator.getMaxIter()}, \\\n",
        "        RegParam: {self.lr_estimator.getRegParam()}, \\\n",
        "        ElasticNetParam: {self.lr_estimator.getElasticNetParam()}\")\n",
        "        print(f\"  FitIntercept: {self.lr_estimator.getFitIntercept()}, \\\n",
        "        Standardization: {self.lr_estimator.getStandardization()}, \\\n",
        "        Solver: {self.lr_estimator.getSolver()}\")\n",
        "\n",
        "        self.model = self.lr_estimator.fit(training_data)\n",
        "\n",
        "        self.training_summary = self.model.summary\n",
        "        self.objective_history = self.training_summary.objectiveHistory\n",
        "\n",
        "        print(\"Hoàn thành huấn luyện mô hình.\")\n",
        "        self._print_coefficients()\n",
        "        return self.model\n",
        "\n",
        "    def _print_coefficients(self):\n",
        "        print(f\"\\nIntercept (hệ số chặn): {self.model.intercept:.4f}\")\n",
        "        print(\"Coefficients (hệ số cho mỗi đặc trưng):\")\n",
        "        if self.feature_names_list and len(self.feature_names_list) == len(self.model.coefficients):\n",
        "            for name, coef in zip(self.feature_names_list, self.model.coefficients):\n",
        "                print(f\"  {name}: {coef:.4f}\")\n",
        "        else:\n",
        "            for i, coef in enumerate(self.model.coefficients):\n",
        "                print(f\"  Feature_{i+1}: {coef:.4f}\")\n",
        "\n",
        "\n",
        "    def plot_objective_history(self):\n",
        "        print(\"\\nLịch sử hàm mục tiêu (Objective History) qua các vòng lặp huấn luyện:\")\n",
        "        table_data = [(i + 1, f\"{obj_val:.6f}\") for i, obj_val in enumerate(self.objective_history)]\n",
        "        headers = [\"Iteration\", \"Objective Value\"]\n",
        "        print(tabulate(table_data, headers=headers, tablefmt=\"grid\"))\n",
        "\n",
        "        plt.figure(figsize=(10, 6))\n",
        "        plt.plot(range(len(self.objective_history)), self.objective_history, marker='o', linestyle='-')\n",
        "        plt.title(f'Lịch Sử Hàm Mục Tiêu (Losses) - {self.target_price_display_name}')\n",
        "        plt.xlabel('Vòng Lặp Tối Ưu Hóa (Iteration)')\n",
        "        plt.ylabel('Giá Trị Hàm Mục Tiêu')\n",
        "        plt.grid(True)\n",
        "        plt.tight_layout()\n",
        "        plt.show()\n",
        "\n",
        "    def evaluate(self, training_data, test_data):\n",
        "        if not self.model:\n",
        "            print(\"Mô hình chưa được huấn luyện.\")\n",
        "            return None\n",
        "        if not training_data or not test_data:\n",
        "            print(\"Lỗi: Cần training_data và test_data để đánh giá.\")\n",
        "            return None\n",
        "\n",
        "        print(\"\\nĐánh giá mô hình...\")\n",
        "        predictions_train = self.model.transform(training_data)\n",
        "        predictions_test = self.model.transform(test_data)\n",
        "\n",
        "        evaluator_rmse = RegressionEvaluator(labelCol=self.label_col, \\\n",
        "                                             predictionCol=self.prediction_col, \\\n",
        "                                             metricName=\"rmse\")\n",
        "        evaluator_r2 = RegressionEvaluator(labelCol=self.label_col, predictionCol=self.prediction_col, metricName=\"r2\")\n",
        "        evaluator_mae = RegressionEvaluator(labelCol=self.label_col, predictionCol=self.prediction_col, metricName=\"mae\")\n",
        "\n",
        "        self.metrics = {\n",
        "            'train_rmse': evaluator_rmse.evaluate(predictions_train),\n",
        "            'train_r2': evaluator_r2.evaluate(predictions_train),\n",
        "            'train_mae': evaluator_mae.evaluate(predictions_train),\n",
        "            'test_rmse': evaluator_rmse.evaluate(predictions_test),\n",
        "            'test_r2': evaluator_r2.evaluate(predictions_test),\n",
        "            'test_mae': evaluator_mae.evaluate(predictions_test)\n",
        "        }\n",
        "\n",
        "        print(f\"\\nKết quả trên tập Training (dự đoán cho {self.target_price_display_name}):\")\n",
        "        print(f\"  RMSE: {self.metrics['train_rmse']:.3f}, MAE: {self.metrics['train_mae']:.3f}, R2: {self.metrics['train_r2']:.3f}\")\n",
        "        print(f\"\\nKết quả trên tập Test (dự đoán cho {self.target_price_display_name}):\")\n",
        "        print(f\"  RMSE: {self.metrics['test_rmse']:.3f}, MAE: {self.metrics['test_mae']:.3f}, R2: {self.metrics['test_r2']:.3f}\")\n",
        "        return self.metrics\n",
        "\n",
        "    def plot_evaluation_comparison(self):\n",
        "        \"\"\"Vẽ biểu đồ cột so sánh các metrics trên tập training và test.\"\"\"\n",
        "        if not self.metrics or 'train_rmse' not in self.metrics:\n",
        "            print(\"Chưa có metrics để vẽ. Vui lòng chạy evaluate() trước.\")\n",
        "            return\n",
        "\n",
        "        metrics_names = ['RMSE', 'MAE', 'R2']\n",
        "        train_values = [self.metrics.get('train_rmse', float('nan')),\n",
        "                        self.metrics.get('train_mae', float('nan')),\n",
        "                        self.metrics.get('train_r2', float('nan'))]\n",
        "        test_values = [self.metrics.get('test_rmse', float('nan')),\n",
        "                       self.metrics.get('test_mae', float('nan')),\n",
        "                       self.metrics.get('test_r2', float('nan'))]\n",
        "\n",
        "        x_indices = range(len(metrics_names))\n",
        "        plt.figure(figsize=(12, 7))\n",
        "        bar_width = 0.35\n",
        "        rects_train = plt.bar([i - bar_width/2 for i in x_indices], train_values, bar_width, label='Training Set', color='deepskyblue')\n",
        "        rects_test = plt.bar([i + bar_width/2 for i in x_indices], test_values, bar_width, label='Test Set', color='lightcoral')\n",
        "\n",
        "        plt.ylabel('Giá trị Metric')\n",
        "        plt.title(f'So Sánh Kết Quả Đánh Giá Mô Hình ({self.target_price_display_name})')\n",
        "        plt.xticks(x_indices, metrics_names)\n",
        "        plt.legend()\n",
        "\n",
        "        def add_labels(rects):\n",
        "            for rect in rects:\n",
        "                height = rect.get_height()\n",
        "                if not pd.isna(height):\n",
        "                    plt.text(rect.get_x() + rect.get_width()/2., height, f'{height:.3f}', ha='center', va='bottom')\n",
        "        add_labels(rects_train)\n",
        "        add_labels(rects_test)\n",
        "        plt.tight_layout()\n",
        "        plt.show()\n",
        "\n",
        "    def predict(self, data_with_features):\n",
        "        \"\"\"\n",
        "        Đưa ra dự đoán trên dữ liệu mới (đã được assembled thành features_vector).\n",
        "        Args:\n",
        "            data_with_features (DataFrame): PySpark DataFrame chứa cột features_col.\n",
        "        Returns:\n",
        "            DataFrame: DataFrame với cột predictionCol được thêm vào.\n",
        "        \"\"\"\n",
        "        if not self.model:\n",
        "            print(\"Mô hình chưa được huấn luyện. Không thể dự đoán.\")\n",
        "            return None\n",
        "        if self.features_col not in data_with_features.columns:\n",
        "            print(f\"Lỗi: Dữ liệu mới không có cột feature '{self.features_col}'.\")\n",
        "            return None\n",
        "\n",
        "        print(\"Đưa ra dự đoán trên dữ liệu mới...\")\n",
        "        predictions = self.model.transform(data_with_features)\n",
        "        return predictions\n"
      ],
      "metadata": {
        "id": "GjHtuyRtYJOd"
      },
      "execution_count": 22,
      "outputs": []
    },
    {
      "cell_type": "markdown",
      "source": [
        "# **Thực nghiệm**"
      ],
      "metadata": {
        "id": "APRqExJtZpHO"
      }
    },
    {
      "cell_type": "markdown",
      "source": [
        "**Chuẩn bị dữ liệu**"
      ],
      "metadata": {
        "id": "xlbkYwEqoNLI"
      }
    },
    {
      "cell_type": "code",
      "source": [
        "from pyspark.ml.linalg import Vectors, VectorUDT\n",
        "from pyspark.sql.functions import udf\n",
        "from pyspark.sql.types import *\n",
        "\n",
        "# UDF chuyển array -> DenseVector\n",
        "to_vector_udf = udf(lambda arr: Vectors.dense(arr), VectorUDT())\n",
        "# Áp dụng cho df_10d\n",
        "df_10d_vector = df_10d.withColumn(\"features_vector\", to_vector_udf(\"features_array\")).drop('features_array')\n",
        "# Áp dụng cho df_5d\n",
        "df_5d_vector = df_5d.withColumn(\"features_vector\", to_vector_udf(\"features_cur\")).drop('features_cur')\n",
        "df_10d_vector.show(5, truncate=False)\n",
        "df_5d_vector.show(5, truncate=False)"
      ],
      "metadata": {
        "id": "uk9Tw5OvoMLJ",
        "colab": {
          "base_uri": "https://localhost:8080/"
        },
        "outputId": "4349eeeb-6122-4654-d39b-45e6d6277d3a"
      },
      "execution_count": 28,
      "outputs": [
        {
          "output_type": "stream",
          "name": "stdout",
          "text": [
            "+----------+-----+-------------------------------------------------------------+\n",
            "|Date      |label|features_vector                                              |\n",
            "+----------+-----+-------------------------------------------------------------+\n",
            "|2009-08-11|21.19|[21.19,21.19,21.19,21.19,21.19,21.19,21.19,21.19,21.19,21.19]|\n",
            "|2009-08-12|21.19|[21.19,21.19,21.19,21.19,21.19,21.19,21.19,21.19,21.19,21.19]|\n",
            "|2009-08-13|21.19|[21.19,21.19,21.19,21.19,21.19,21.19,21.19,21.19,21.19,21.19]|\n",
            "|2009-08-14|21.19|[21.19,21.19,21.19,21.19,21.19,21.19,21.19,21.19,21.19,21.19]|\n",
            "|2009-08-15|21.19|[21.19,21.19,21.19,21.19,21.19,21.19,21.19,21.19,21.19,21.19]|\n",
            "+----------+-----+-------------------------------------------------------------+\n",
            "only showing top 5 rows\n",
            "\n",
            "+----------+-----+----------------------------------------------------------------------------------------------+\n",
            "|Date      |label|features_vector                                                                               |\n",
            "+----------+-----+----------------------------------------------------------------------------------------------+\n",
            "|2009-08-11|21.19|[29.97894721617453,30.00251096677933,29.971104961895673,29.986795629701223,29.931985797919356]|\n",
            "|2009-08-12|21.19|[29.97894721617453,30.00251096677933,29.971104961895673,29.986795629701223,29.931985797919356]|\n",
            "|2009-08-13|21.19|[29.97894721617453,30.00251096677933,29.971104961895673,29.986795629701223,29.931985797919356]|\n",
            "|2009-08-14|21.19|[29.97894721617453,30.00251096677933,29.971104961895673,29.986795629701223,29.931985797919356]|\n",
            "|2009-08-15|21.19|[29.97894721617453,30.00251096677933,29.971104961895673,29.986795629701223,29.931985797919356]|\n",
            "+----------+-----+----------------------------------------------------------------------------------------------+\n",
            "only showing top 5 rows\n",
            "\n"
          ]
        }
      ]
    },
    {
      "cell_type": "markdown",
      "source": [
        "**Chia tập dữ liệu**"
      ],
      "metadata": {
        "id": "FKpudod3otca"
      }
    },
    {
      "cell_type": "code",
      "source": [
        "train_10d, test_10d = df_10d_vector.randomSplit([0.7, 0.3], seed=42)\n",
        "train_5d, test_5d = df_5d_vector.randomSplit([0.7, 0.3], seed=42)\n",
        "print(f\"Train size: {train_10d.count()}\\nTest size: {test_10d.count()}\")"
      ],
      "metadata": {
        "id": "dSsOXf1oowQr",
        "colab": {
          "base_uri": "https://localhost:8080/"
        },
        "outputId": "a4230170-cec3-4c7f-9c40-188ece14fddd"
      },
      "execution_count": 29,
      "outputs": [
        {
          "output_type": "stream",
          "name": "stdout",
          "text": [
            "Train size: 3964\n",
            "Test size: 1591\n"
          ]
        }
      ]
    },
    {
      "cell_type": "markdown",
      "source": [
        "**Huấn luyện mô hình trên 10 chiều:**"
      ],
      "metadata": {
        "id": "R8rAMEebqyS8"
      }
    },
    {
      "cell_type": "code",
      "source": [
        "# Mô hình với 10 chiều\n",
        "model_10d = GoldPricePredictor(\n",
        "    features_col=\"features_vector\",\n",
        "    label_col=\"label\",\n",
        "    prediction_col=\"prediction_10d\",\n",
        "    max_iter=500,\n",
        "    reg_param=0.01,\n",
        "    elastic_net_param=0.01\n",
        ")\n",
        "model_10d.set_target_price_display_name(\"GoldPrice_10D\")\n",
        "model_10d.train(train_10d)\n",
        "metrics_10d = model_10d.evaluate(train_10d, test_10d)\n"
      ],
      "metadata": {
        "id": "HdZh_zZiYJQi",
        "colab": {
          "base_uri": "https://localhost:8080/"
        },
        "outputId": "eb8a9d00-544d-42de-ff23-edc6a463d240"
      },
      "execution_count": 31,
      "outputs": [
        {
          "output_type": "stream",
          "name": "stdout",
          "text": [
            "Bắt đầu huấn luyện mô hình Linear Regression (GoldPrice_10D) với các tham số:\n",
            "  MaxIter: 500,         RegParam: 0.01,         ElasticNetParam: 0.01\n",
            "  FitIntercept: True,         Standardization: True,         Solver: auto\n",
            "Hoàn thành huấn luyện mô hình.\n",
            "\n",
            "Intercept (hệ số chặn): 0.0051\n",
            "Coefficients (hệ số cho mỗi đặc trưng):\n",
            "  Feature_1: 0.5663\n",
            "  Feature_2: 0.1670\n",
            "  Feature_3: 0.1357\n",
            "  Feature_4: 0.0868\n",
            "  Feature_5: 0.0494\n",
            "  Feature_6: 0.0376\n",
            "  Feature_7: 0.0238\n",
            "  Feature_8: 0.0018\n",
            "  Feature_9: -0.0414\n",
            "  Feature_10: -0.0268\n",
            "\n",
            "Đánh giá mô hình...\n",
            "\n",
            "Kết quả trên tập Training (dự đoán cho GoldPrice_10D):\n",
            "  RMSE: 0.353, MAE: 0.170, R2: 0.999\n",
            "\n",
            "Kết quả trên tập Test (dự đoán cho GoldPrice_10D):\n",
            "  RMSE: 0.321, MAE: 0.154, R2: 1.000\n"
          ]
        }
      ]
    },
    {
      "cell_type": "markdown",
      "source": [
        "# Huấn luyện mô hình trên 5 chiều dữ liệu"
      ],
      "metadata": {
        "id": "3DwuUu_-BxOB"
      }
    },
    {
      "cell_type": "code",
      "source": [
        "# Mô hình với 5 chiều\n",
        "model_5d = GoldPricePredictor(\n",
        "    features_col=\"features_vector\",\n",
        "    label_col=\"label\",\n",
        "    prediction_col=\"prediction_5d\",\n",
        "    max_iter=500,\n",
        "    reg_param=0.01,\n",
        "    elastic_net_param=0.01\n",
        ")\n",
        "model_5d.set_target_price_display_name(\"GoldPrice_5D\")\n",
        "model_5d.train(train_5d)\n",
        "metrics_5d = model_5d.evaluate(train_5d, test_5d)"
      ],
      "metadata": {
        "colab": {
          "base_uri": "https://localhost:8080/"
        },
        "id": "b2uY9x5tBtoT",
        "outputId": "60d68b15-1b9f-413d-b157-6ddcecad4fcb"
      },
      "execution_count": 32,
      "outputs": [
        {
          "output_type": "stream",
          "name": "stdout",
          "text": [
            "Bắt đầu huấn luyện mô hình Linear Regression (GoldPrice_5D) với các tham số:\n",
            "  MaxIter: 500,         RegParam: 0.01,         ElasticNetParam: 0.01\n",
            "  FitIntercept: True,         Standardization: True,         Solver: auto\n",
            "Hoàn thành huấn luyện mô hình.\n",
            "\n",
            "Intercept (hệ số chặn): 0.0173\n",
            "Coefficients (hệ số cho mỗi đặc trưng):\n",
            "  Feature_1: 0.0550\n",
            "  Feature_2: -0.0304\n",
            "  Feature_3: 0.1232\n",
            "  Feature_4: 0.0086\n",
            "  Feature_5: 0.5514\n",
            "\n",
            "Đánh giá mô hình...\n",
            "\n",
            "Kết quả trên tập Training (dự đoán cho GoldPrice_5D):\n",
            "  RMSE: 0.348, MAE: 0.170, R2: 0.999\n",
            "\n",
            "Kết quả trên tập Test (dự đoán cho GoldPrice_5D):\n",
            "  RMSE: 0.326, MAE: 0.156, R2: 1.000\n"
          ]
        }
      ]
    },
    {
      "cell_type": "markdown",
      "source": [
        "**Vẽ biểu đồ so sánh các chỉ số giữa 10D và 5D:**"
      ],
      "metadata": {
        "id": "ykz8rBerqz2v"
      }
    },
    {
      "cell_type": "code",
      "source": [
        "labels = ['RMSE', 'MAE', 'R2']\n",
        "x = np.arange(len(labels))  # vị trí x\n",
        "width = 0.2  # nhỏ hơn để vừa 4 nhóm cột\n",
        "\n",
        "fig, ax = plt.subplots(figsize=(12, 7))\n",
        "\n",
        "# Dữ liệu train\n",
        "train_10d = [metrics_10d['train_rmse'], metrics_10d['train_mae'], metrics_10d['train_r2']]\n",
        "train_5d = [metrics_5d['train_rmse'], metrics_5d['train_mae'], metrics_5d['train_r2']]\n",
        "\n",
        "# Dữ liệu test\n",
        "test_10d = [metrics_10d['test_rmse'], metrics_10d['test_mae'], metrics_10d['test_r2']]\n",
        "test_5d = [metrics_5d['test_rmse'], metrics_5d['test_mae'], metrics_5d['test_r2']]\n",
        "\n",
        "rects1 = ax.bar(x - 1.5*width, train_10d, width, label='Train 10D', color='steelblue')\n",
        "rects2 = ax.bar(x - 0.5*width, train_5d, width, label='Train 5D (CUR)', color='lightsteelblue')\n",
        "rects3 = ax.bar(x + 0.5*width, test_10d, width, label='Test 10D', color='salmon')\n",
        "rects4 = ax.bar(x + 1.5*width, test_5d, width, label='Test 5D (CUR)', color='lightcoral')\n",
        "\n",
        "ax.set_ylabel('Metric Values')\n",
        "ax.set_title('So sánh kết quả mô hình: Dữ liệu 10 chiều vs 5 chiều (CUR) trên tập Train và Test')\n",
        "ax.set_xticks(x)\n",
        "ax.set_xticklabels(labels)\n",
        "ax.legend()\n",
        "\n",
        "def autolabel(rects):\n",
        "    for rect in rects:\n",
        "        height = rect.get_height()\n",
        "        ax.annotate(f'{height:.3f}',\n",
        "                    xy=(rect.get_x() + rect.get_width() / 2, height),\n",
        "                    xytext=(0, 3),  # 3 points vertical offset\n",
        "                    textcoords=\"offset points\",\n",
        "                    ha='center', va='bottom')\n",
        "\n",
        "for rects in [rects1, rects2, rects3, rects4]:\n",
        "    autolabel(rects)\n",
        "\n",
        "plt.tight_layout()\n",
        "plt.show()\n"
      ],
      "metadata": {
        "id": "UuyeHWJGqwLH",
        "colab": {
          "base_uri": "https://localhost:8080/",
          "height": 675
        },
        "outputId": "25be8331-b45f-40b7-c05f-e8ec57b57d98"
      },
      "execution_count": 33,
      "outputs": [
        {
          "output_type": "display_data",
          "data": {
            "text/plain": [
              "<Figure size 1200x700 with 1 Axes>"
            ],
            "image/png": "[encoded data removed]"
          },
          "metadata": {}
        }
      ]
    },
    {
      "cell_type": "markdown",
      "source": [
        "**Nhận xét:**\n",
        "\n",
        "* Mô hình Linear Regression với cả 10 đặc trưng gốc và 5 đặc trưng sau giảm chiều bằng CUR đều cho kết quả dự đoán rất tốt, với RMSE và MAE thấp, R² gần 1 trên tập train và test.\n",
        "\n",
        "* Việc giảm chiều dữ liệu từ 10 xuống 5 đặc trưng không làm giảm đáng kể hiệu suất mô hình, cho thấy CUR đã chọn được những đặc trưng quan trọng nhất.\n",
        "\n",
        "* Hệ số hồi quy của các đặc trưng sau CUR phản ánh rõ mức độ ảnh hưởng khác nhau tới giá vàng.\n",
        "\n",
        "**Giải thích:**\n",
        "\n",
        "* CUR chọn các cột và hàng quan trọng dựa trên phân phối năng lượng của ma trận dữ liệu, giúp giữ lại thông tin có ý nghĩa nhất.\n",
        "\n",
        "* Do đó, mô hình với 5 đặc trưng CUR vẫn có đủ thông tin để dự đoán chính xác như mô hình đầy đủ 10 đặc trưng.\n",
        "\n",
        "* Kết quả R² rất cao chứng tỏ mối quan hệ tuyến tính giữa các đặc trưng và giá vàng là rõ ràng, đồng thời việc sử dụng regularization giúp mô hình tránh hiện tượng overfitting.\n",
        "\n",
        "* RMSE và MAE thấp trên cả tập train và test cho thấy mô hình tổng quát tốt, dữ liệu train-test không khác biệt quá lớn."
      ],
      "metadata": {
        "id": "ewELNlyesSpI"
      }
    },
    {
      "cell_type": "markdown",
      "source": [
        "# **Dừng SparkSession**"
      ],
      "metadata": {
        "id": "gmiNFffDS1zp"
      }
    },
    {
      "cell_type": "code",
      "source": [
        "def stop_session():\n",
        "    spark.stop()\n",
        "    print(\"SparkSession đã được dừng.\")\n",
        "\n",
        "# stop_session()"
      ],
      "metadata": {
        "id": "BCzJ86tbS0XQ"
      },
      "execution_count": 34,
      "outputs": []
    }
  ]
}